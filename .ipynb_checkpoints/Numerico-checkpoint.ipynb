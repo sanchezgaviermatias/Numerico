{
 "cells": [
  {
   "cell_type": "markdown",
   "metadata": {},
   "source": [
    "# Métodos Numéricos Python\n",
    "---"
   ]
  },
  {
   "cell_type": "markdown",
   "metadata": {},
   "source": [
    "##  Librería Sympy\n",
    "---"
   ]
  },
  {
   "cell_type": "code",
   "execution_count": 21,
   "metadata": {},
   "outputs": [
    {
     "name": "stdout",
     "output_type": "stream",
     "text": [
      "Ingrese su función de x: x**3 + sin(x)\n"
     ]
    }
   ],
   "source": [
    "from sympy import *\n",
    "from sympy.parsing.sympy_parser import parse_expr\n",
    "\n",
    "x = Symbol('x')\n",
    "f = parse_expr(input(\"Ingrese su función de x: \"))"
   ]
  },
  {
   "cell_type": "code",
   "execution_count": 22,
   "metadata": {},
   "outputs": [
    {
     "data": {
      "text/latex": [
       "$\\displaystyle 3 x^{2} + \\cos{\\left(x \\right)}$"
      ],
      "text/plain": [
       "3*x**2 + cos(x)"
      ]
     },
     "execution_count": 22,
     "metadata": {},
     "output_type": "execute_result"
    }
   ],
   "source": [
    "fprime = f.diff(x)\n",
    "fprime"
   ]
  },
  {
   "cell_type": "code",
   "execution_count": 23,
   "metadata": {},
   "outputs": [
    {
     "data": {
      "text/plain": [
       "3674.0963077949086"
      ]
     },
     "execution_count": 23,
     "metadata": {},
     "output_type": "execute_result"
    }
   ],
   "source": [
    "# Función posta\n",
    "f_prime = lambdify(x, fprime)\n",
    "f_prime(35)"
   ]
  },
  {
   "cell_type": "markdown",
   "metadata": {},
   "source": [
    "# Mac Laurin Automático\n",
    "---\n",
    "Función que permite aproximar \n",
    "$$ f(x) = f(0) + \\frac{f'(0)}{1!}x + \\frac{f(0)}{2!}x^2 + \\frac{f'(0)}{3!}x^3+\\dotsb = \\sum_{k=0}^\\infty \\frac{f^{\\left(k\\right)}(0)}{k!} x^k,$$"
   ]
  },
  {
   "cell_type": "markdown",
   "metadata": {},
   "source": [
    "<img src=\"https://upload.wikimedia.org/wikipedia/commons/c/c6/Taylor_Approximation_of_sin%28x%29.jpeg\" alt=\"Girl in a jacket\"  style=\"widtj=300px;height:300px;\">\n"
   ]
  },
  {
   "cell_type": "code",
   "execution_count": null,
   "metadata": {},
   "outputs": [],
   "source": []
  }
 ],
 "metadata": {
  "kernelspec": {
   "display_name": "Python 3",
   "language": "python",
   "name": "python3"
  },
  "language_info": {
   "codemirror_mode": {
    "name": "ipython",
    "version": 3
   },
   "file_extension": ".py",
   "mimetype": "text/x-python",
   "name": "python",
   "nbconvert_exporter": "python",
   "pygments_lexer": "ipython3",
   "version": "3.7.4"
  }
 },
 "nbformat": 4,
 "nbformat_minor": 2
}
